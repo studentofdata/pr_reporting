{
 "cells": [
  {
   "cell_type": "code",
   "execution_count": 2,
   "metadata": {
    "collapsed": false
   },
   "outputs": [],
   "source": [
    "import os\n",
    "import sys\n",
    "import pandas as pd\n",
    "import urllib2\n",
    "from bs4 import BeautifulSoup\n",
    "\n",
    "source_file_name = \"FY 16 - 17 PR Report Monthly Master.xlsx\"\n",
    "source_file = os.path.join(os.getcwd(),'..','..','data','external', source_file_name)\n",
    "\n",
    "target_file_name = \"processed_data.csv\"\n",
    "target_file = os.path.join(os.getcwd(),'..','..','data','processed', target_file_name)\n",
    "\n",
    "columns_to_keep = ['DATE',\n",
    "                   'CITY',\n",
    "                   'STATE',\n",
    "                   'COUNTRY',\n",
    "                   'HEADLINE',\n",
    "                   'IMPRESSIONS',\n",
    "                   'PR MEDIA VALUE',\n",
    "                   'PUB DATE',\n",
    "                   'PUBLICATION',\n",
    "                   'TYPE',\n",
    "                   'URL',\n",
    "                   'Jurisdictions Mentioned',\n",
    "                   'Members Mentioned']\n",
    "\n",
    "def data_pull(source_file, target_file):\n",
    "    data = pd.ExcelFile(source_file)\n",
    "    sheets = data.sheet_names\n",
    "\n",
    "    masterdata = pd.DataFrame()\n",
    "\n",
    "    for sheet in sheets:\n",
    "        tempdata = data.parse(sheet)\n",
    "        tempdata['DATE'] = sheet\n",
    "        masterdata = masterdata.append(tempdata)\n",
    "\n",
    "    masterdata = masterdata[columns_to_keep]\n",
    "    masterdata = masterdata.dropna(axis=0, how = 'any')\n",
    "    masterdata.to_csv(target_file, index=False)\n",
    "    return masterdata\n",
    "\n",
    "def process_url(url):\n",
    "    \n",
    "    query = urllib2.Request(url, None, hdr)\n",
    "    html = urllib2.urlopen(query).read()\n",
    "    soup = BeautifulSoup(html)\n",
    "    # kill all script and style elements\n",
    "    for script in soup([\"script\", \"style\"]):\n",
    "        script.extract()    # rip it out\n",
    "    # get text\n",
    "    text = soup.get_text(separator=' ')\n",
    "    # break into lines and remove leading and trailing space on each\n",
    "    lines = (line.strip() for line in text.splitlines())\n",
    "    # break multi-headlines into a line each\n",
    "    chunks = (phrase.strip() for line in lines for phrase in line.split(\"  \"))\n",
    "    # drop blank lines\n",
    "    text = '\\n'.join(chunk for chunk in chunks if chunk)\n",
    "    return text\n",
    "    "
   ]
  }
 ],
 "metadata": {
  "anaconda-cloud": {},
  "kernelspec": {
   "display_name": "Python 2",
   "language": "python",
   "name": "python2"
  },
  "language_info": {
   "codemirror_mode": {
    "name": "ipython",
    "version": 2
   },
   "file_extension": ".py",
   "mimetype": "text/x-python",
   "name": "python",
   "nbconvert_exporter": "python",
   "pygments_lexer": "ipython2",
   "version": "2.7.11"
  }
 },
 "nbformat": 4,
 "nbformat_minor": 1
}
