{
 "cells": [
  {
   "cell_type": "code",
   "execution_count": 17,
   "metadata": {
    "collapsed": false
   },
   "outputs": [],
   "source": [
    "import os\n",
    "import csv\n",
    "import sys\n",
    "import pandas as pd\n",
    "import PRData\n",
    "\n",
    "current_month = 'July 2016' #MOVE TO CONFIG\n",
    "\n",
    "data = PRData.data_pull()\n",
    "current_data = data[data['DATE'] == current_month]"
   ]
  },
  {
   "cell_type": "code",
   "execution_count": null,
   "metadata": {
    "collapsed": true
   },
   "outputs": [],
   "source": [
    "# This section is used to process all the data to end up with unique lists of jurisdictions & member\n",
    "# this has to be ran before the next section. This needs to be moved as it's more of a helper function\n",
    "# The data needs to be output and preserved and then called into this script\n",
    "juris = data['Jurisdictions Mentioned'].unique()\n",
    "members = data['Members Mentioned']\n",
    "\n",
    "def find_uniques(input_list):\n",
    "    input_list = input_list.tolist()\n",
    "    uniques = []\n",
    "    for l in input_list:\n",
    "        temp = l.split(',')\n",
    "        for t in temp:\n",
    "            uniques.append(t.lstrip(' ').rstrip(' '))\n",
    "    return uniques\n",
    "\n",
    "juris = find_uniques(juris)\n",
    "members = find_uniques(members)\n",
    "\n",
    "unique_juris = list(set(juris))\n",
    "unique_members = list(set(members))"
   ]
  },
  {
   "cell_type": "code",
   "execution_count": 45,
   "metadata": {
    "collapsed": false
   },
   "outputs": [],
   "source": [
    "# Naive Classification\n",
    "urls = current_data[['URL']]['URL']\n",
    "\n",
    "\n",
    "#This gets wrapped in a function which takes in 3 items, DF, Members, Juris\n",
    "\n",
    "for index, row in current_data.iterrows():\n",
    "    \n",
    "    url = current_data.ix[index]['URL']\n",
    "    \n",
    "    members_in_text = []\n",
    "    juris_in_text = []\n",
    "    \n",
    "    #Potentially put into a separate function\n",
    "    if 'images' not in url:\n",
    "        try:\n",
    "            text = PRData.process_url(url)\n",
    "        except:\n",
    "            print \"Could not process: %s\" % url\n",
    "\n",
    "#         for member in members:\n",
    "#             if member in text:\n",
    "#                 member_in_text.append(member)\n",
    "        \n",
    "#         for jurisdiction in jurisdictions:\n",
    "#             if jurisdiction in text:\n",
    "#                 juris_in_text.append(jurisdiction)\n",
    "                "
   ]
  },
  {
   "cell_type": "code",
   "execution_count": 51,
   "metadata": {
    "collapsed": false
   },
   "outputs": [
    {
     "data": {
      "text/plain": [
       "121"
      ]
     },
     "execution_count": 51,
     "metadata": {},
     "output_type": "execute_result"
    }
   ],
   "source": []
  },
  {
   "cell_type": "code",
   "execution_count": 55,
   "metadata": {
    "collapsed": false
   },
   "outputs": [
    {
     "data": {
      "text/plain": [
       "[u'',\n",
       " u'Hyatt Regency Monterey',\n",
       " u'The Clement Intercontinetal',\n",
       " u'Roux',\n",
       " u'Bernardus Lodge',\n",
       " u'Princess Monterey Whale Watch',\n",
       " u'Asilomar Conference Grounds',\n",
       " u'PG Museum of Natural History',\n",
       " u'Il Tegamino',\n",
       " u'Nepenthe',\n",
       " u'Portola Hotel &',\n",
       " u'La Balena',\n",
       " u'Golden State Theatre',\n",
       " u'Happy Girl Kitchen',\n",
       " u'Dali17',\n",
       " u'My Museum',\n",
       " u'Passionfish',\n",
       " u'Cultura Comida y Bebida',\n",
       " u'San Carlos Mission',\n",
       " u'Spindrift Inn',\n",
       " u'Corral De Tierra Market & Deli',\n",
       " u'Kayak Connection',\n",
       " u'Esalen',\n",
       " u'San Carlos Cathedral',\n",
       " u'Asilomar',\n",
       " u'Monterey Art Museum',\n",
       " u'Monterey Bay Aquarium',\n",
       " u'Glen Oaks Big Sur',\n",
       " u'Folktale',\n",
       " u'Folktale Winery',\n",
       " u'Intercontinetal The Clement',\n",
       " u'Jennini',\n",
       " u'Hahn Vineyards',\n",
       " u'Carmel Wine Walk by the Sea',\n",
       " u'SpringHill Suites',\n",
       " u'Earthbound Farms',\n",
       " u'Cannery Row Brewing Company',\n",
       " u\"Giorgio's at 201 Main\",\n",
       " u'Escalen Institute',\n",
       " u'Forge in the Forest',\n",
       " u'Post Ranch',\n",
       " u'Portola Hotel & Spa',\n",
       " u'Pfeffifer Big Sur  State Park',\n",
       " u'Julia Pfeiffer Burns State Park',\n",
       " u'Intercontinental The Clement',\n",
       " u'Sanctuary Beach Resort',\n",
       " u'Portola',\n",
       " u'Elkhorn Slough Safari Tour',\n",
       " u'Monterey Plaza',\n",
       " u'Bernardus',\n",
       " u'Sunset Center',\n",
       " u'Monterey Bay Equestrian',\n",
       " u'Dametra',\n",
       " u'Monterey Tides',\n",
       " u'Pezzini Farms',\n",
       " u'Vendange',\n",
       " u'Cultura',\n",
       " u'Hahn Family Wines',\n",
       " u'Carmel Belle',\n",
       " u'Steinbeck Center',\n",
       " u'Alvarado Street Brewery & Grill',\n",
       " u'Aubergine',\n",
       " u'Monterey Plaza Hotel',\n",
       " u'Monterey Bay Whale Watch',\n",
       " u'Deetjens',\n",
       " u'Dali 17',\n",
       " u'Monterey Bay Kayaks',\n",
       " u'Princess Monterey Whale Watching',\n",
       " u'Quail Lodge',\n",
       " u'InterContinental',\n",
       " u'Beach House',\n",
       " u'The Hideaway',\n",
       " u'Wrath Wines',\n",
       " u'Adventures by the Sea',\n",
       " u'White Hart',\n",
       " u'Colton Inn',\n",
       " u'Pacifics Edge Restaurant',\n",
       " u'Hofsas House',\n",
       " u'Mission Ranch',\n",
       " u'Paraiso Vineyards',\n",
       " u'Taste of Monterey',\n",
       " u'Monterey Peninsula Inn',\n",
       " u'Refuge',\n",
       " u'Julia Pfeiffer Burns Park',\n",
       " u'Hyatt Carmel Highlands',\n",
       " u'Carmel Valley Ranch',\n",
       " u'Restaurant 1833',\n",
       " u'Marriott',\n",
       " u'Treebones',\n",
       " u'Portola Hotel',\n",
       " u'Wave Street Studios',\n",
       " u'Point Lobos',\n",
       " u'The Sardine Factory',\n",
       " u'Casa Munras',\n",
       " u'Post Ranch Inn',\n",
       " u'Pebble Beach Golf Course',\n",
       " u'Haute Enchilada',\n",
       " u'Monterey Conference Center',\n",
       " u'Henry Miller Library',\n",
       " u'Point Pinos Lighthouse',\n",
       " u'Big Sur Bakery',\n",
       " u'Hotel Carmel',\n",
       " u'Monterey Bay Aqaurium',\n",
       " u'Carmel Mission',\n",
       " u'Hahn Winery',\n",
       " u'Pebble Beach',\n",
       " u'Embassy Suites',\n",
       " u'Parker Lusseau',\n",
       " u'Pebble Beach Golf Links',\n",
       " u'Laguna Seca',\n",
       " u'Restauraunt at Ventana',\n",
       " u'Fast Raft',\n",
       " u'Parasio Vineyard',\n",
       " u'The Clement Monterey',\n",
       " u'Bernardus Lodge & Spa',\n",
       " u'Porta Bella',\n",
       " u'Porters in the Forest',\n",
       " u'Monterey Zoo',\n",
       " u'Monterey Bay Equestrian Center',\n",
       " u'Monterey Mariott',\n",
       " u'Adventures By the Sea']"
      ]
     },
     "execution_count": 55,
     "metadata": {},
     "output_type": "execute_result"
    }
   ],
   "source": [
    "unique_members"
   ]
  }
 ],
 "metadata": {
  "anaconda-cloud": {},
  "kernelspec": {
   "display_name": "Python [conda root]",
   "language": "python",
   "name": "conda-root-py"
  },
  "language_info": {
   "codemirror_mode": {
    "name": "ipython",
    "version": 2
   },
   "file_extension": ".py",
   "mimetype": "text/x-python",
   "name": "python",
   "nbconvert_exporter": "python",
   "pygments_lexer": "ipython2",
   "version": "2.7.12"
  }
 },
 "nbformat": 4,
 "nbformat_minor": 1
}
